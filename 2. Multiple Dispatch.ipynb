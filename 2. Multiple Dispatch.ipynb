{
 "cells": [
  {
   "cell_type": "markdown",
   "metadata": {},
   "source": [
    "# (Dynamic) Multiple Dispatch in Julia"
   ]
  },
  {
   "cell_type": "markdown",
   "metadata": {},
   "source": [
    "[Multiple dispatch](http://en.wikipedia.org/wiki/Multiple_dispatch) can be thought of as a generalization of **object-oriented** (OO) programming.\n",
    "\n",
    "In a typical OO language like Python or Java, an object type (class) *owns* certain *methods* (functions), and are typically called via\n",
    "```\n",
    "object.method(arg1, arg2)\n",
    "```\n",
    "Depending on the type of `object`, the runtime system will *dispatch* to different `method` definitions.\n",
    "\n",
    "In Julia, the same call would be \"spelled\" differently:\n",
    "```\n",
    "method(object, arg1, arg2)\n",
    "```\n",
    "Spelled this way, you should notice something odd about OO programming: why is the *first* argument so special?\n",
    "\n",
    "Traditional OO programming corresponds to **single dispatch**: the runtime chooses `method` based on the type of the *first* argument only.   Julia implements **multiple dispatch**: the runtime chooses `method` based on the types of *all* the arguments."
   ]
  },
  {
   "cell_type": "markdown",
   "metadata": {},
   "source": [
    "## Example: Binary mathematical operators"
   ]
  },
  {
   "cell_type": "markdown",
   "metadata": {},
   "source": [
    "A classic example of the need for multiple dispatch is the case of binary math operators.  If you compute `x * y`, the definition of the `*` function depends upon *both* the arguments, not just on `x`.\n",
    "\n",
    "Julia defines *many versions* of the `*` function:"
   ]
  },
  {
   "cell_type": "code",
   "execution_count": null,
   "metadata": {
    "collapsed": false
   },
   "outputs": [],
   "source": [
    "methods(*)"
   ]
  },
  {
   "cell_type": "markdown",
   "metadata": {},
   "source": [
    "We can add new methods to a given function at any time.  The methods don't \"belong\" to a particular type, and aren't part of the type's definition.\n",
    "\n",
    "For example, string concatenation in Julia is done via `*`:"
   ]
  },
  {
   "cell_type": "code",
   "execution_count": null,
   "metadata": {
    "collapsed": false
   },
   "outputs": [],
   "source": [
    "\"hello\" * \"world\""
   ]
  },
  {
   "cell_type": "code",
   "execution_count": null,
   "metadata": {
    "collapsed": false
   },
   "outputs": [],
   "source": [
    "\"hello\" + \"world\""
   ]
  },
  {
   "cell_type": "markdown",
   "metadata": {},
   "source": [
    "But we can easily extend `+` to support a concatenation for strings, if we want:"
   ]
  },
  {
   "cell_type": "code",
   "execution_count": null,
   "metadata": {
    "collapsed": false
   },
   "outputs": [],
   "source": [
    "import Base.+ # we must import a method to add methods (as opposed to replacing it)\n",
    "+(x::AbstractString, y::AbstractString) = x * \" \" * y"
   ]
  },
  {
   "cell_type": "code",
   "execution_count": null,
   "metadata": {
    "collapsed": false
   },
   "outputs": [],
   "source": [
    "\"hello\" + \"world\""
   ]
  },
  {
   "cell_type": "markdown",
   "metadata": {},
   "source": [
    "## Not the same as C++ overloading: Dynamic vs. static"
   ]
  },
  {
   "cell_type": "markdown",
   "metadata": {},
   "source": [
    "This may look a lot like function overloading in languages like C++.   The difference is that C++'s overloading is **static** (= *dispatch at compile-time*), whereas Julia's overloading is dynamic (= *dispatch at run-time*), like OO polymorphism.\n",
    "\n",
    "For example, now that we've defined `+`, we can use strings with any previously defined function that requires a `+` operation, like `sum` (summation):"
   ]
  },
  {
   "cell_type": "code",
   "execution_count": null,
   "metadata": {
    "collapsed": false
   },
   "outputs": [],
   "source": [
    "sum([\"The\", \"quick\", \"brown\", \"fox\", \"jumped\", \"over\", \"the\", \"lazy\", \"dog.\"])"
   ]
  },
  {
   "cell_type": "markdown",
   "metadata": {},
   "source": [
    "## Type declarations are \"function filters\""
   ]
  },
  {
   "cell_type": "markdown",
   "metadata": {},
   "source": [
    "Type declarations are *not* required for performance — Julia automatically specializes a function on its argument types during compilation.  They act like **filters**, allowing us to specify *which functions are used when*.\n",
    "\n",
    "Without this, in a language like Python, you sometimes have to write *manual function filters* like this example from Matplotlib's [quiver.py](https://github.com/matplotlib/matplotlib/blob/43150ef012e405de5c2fb7b779d1bffa77f7af81/lib/matplotlib/quiver.py):\n",
    "```python\n",
    "def _parse_args(*args):\n",
    "    X, Y, U, V, C = [None] * 5\n",
    "    args = list(args)\n",
    "    # The use of atleast_1d allows for handling scalar arguments while also\n",
    "    # keeping masked arrays\n",
    "    if len(args) == 3 or len(args) == 5:\n",
    "        C = np.atleast_1d(args.pop(-1))\n",
    "    V = np.atleast_1d(args.pop(-1))\n",
    "    U = np.atleast_1d(args.pop(-1))\n",
    "    if U.ndim == 1:\n",
    "        nr, nc = 1, U.shape[0]\n",
    "    else:\n",
    "        nr, nc = U.shape\n",
    "    if len(args) == 2: # remaining after removing U,V,C\n",
    "        X, Y = [np.array(a).ravel() for a in args]\n",
    "        if len(X) == nc and len(Y) == nr:\n",
    "            X, Y = [a.ravel() for a in np.meshgrid(X, Y)]\n",
    "    else:\n",
    "        indexgrid = np.meshgrid(np.arange(nc), np.arange(nr))\n",
    "        X, Y = [np.ravel(a) for a in indexgrid]\n",
    "    return X, Y, U, V, C\n",
    "```\n",
    "In Julia, you could define different methods for differing numbers of arguments, arrays vs. scalars, etcetera (all eventually calling a single lower-level function to do the work once the arguments have been transformed)."
   ]
  }
 ],
 "metadata": {
  "kernelspec": {
   "display_name": "Julia 0.4.0-rc2",
   "language": "julia",
   "name": "julia-0.4"
  },
  "language_info": {
   "file_extension": ".jl",
   "mimetype": "application/julia",
   "name": "julia",
   "version": "0.4.0"
  }
 },
 "nbformat": 4,
 "nbformat_minor": 0
}
