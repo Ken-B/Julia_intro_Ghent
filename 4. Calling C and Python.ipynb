{
 "cells": [
  {
   "cell_type": "markdown",
   "metadata": {},
   "source": [
    "# Calling C (and Fortran) from Julia"
   ]
  },
  {
   "cell_type": "markdown",
   "metadata": {},
   "source": [
    "Somewhat like `ctypes` and similar libraries in Python, Julia has a built-in `ccall` feature to call functions in external compiled (C ABI) libraries."
   ]
  },
  {
   "cell_type": "code",
   "execution_count": null,
   "metadata": {
    "collapsed": false
   },
   "outputs": [],
   "source": [
    "ccall(:printf, Cint, (Ptr{UInt8},), \"Hello, world!\")"
   ]
  },
  {
   "cell_type": "markdown",
   "metadata": {},
   "source": [
    "The format is `ccall(function name, return type, argument types, arguments...)`.\n",
    "\n",
    "You can also call functions in arbitrary shared libraries / DLLs:"
   ]
  },
  {
   "cell_type": "code",
   "execution_count": null,
   "metadata": {
    "collapsed": false
   },
   "outputs": [],
   "source": [
    "mysin(x) = ccall((:sin, \"libm\"), Cdouble, (Cdouble,), x)"
   ]
  },
  {
   "cell_type": "code",
   "execution_count": null,
   "metadata": {
    "collapsed": false
   },
   "outputs": [],
   "source": [
    "mysin(3.0) - sin(3.0)"
   ]
  },
  {
   "cell_type": "code",
   "execution_count": null,
   "metadata": {
    "collapsed": false
   },
   "outputs": [],
   "source": [
    "mysin(3) # note that Julia automatically converts types as necessary"
   ]
  },
  {
   "cell_type": "markdown",
   "metadata": {},
   "source": [
    "Unlike Python, however, Julia's speed means that it is perfectly fine to call C functions operating on small data, like single numbers — you don't have to \"vectorize\" on the C side first, and you can instead vectorize on the Julia side."
   ]
  },
  {
   "cell_type": "code",
   "execution_count": null,
   "metadata": {
    "collapsed": false
   },
   "outputs": [],
   "source": [
    "@vectorize_1arg Real mysin"
   ]
  },
  {
   "cell_type": "code",
   "execution_count": null,
   "metadata": {
    "collapsed": false
   },
   "outputs": [],
   "source": [
    "mysin([1,2,3,4])"
   ]
  },
  {
   "cell_type": "code",
   "execution_count": null,
   "metadata": {
    "collapsed": false
   },
   "outputs": [],
   "source": [
    "code_native(mysin, (Float64,))"
   ]
  },
  {
   "cell_type": "markdown",
   "metadata": {},
   "source": [
    "# Calling Python from Julia"
   ]
  },
  {
   "cell_type": "markdown",
   "metadata": {},
   "source": [
    "Thanks to a package called `PyCall`, Julia **call arbitrary Python** functions by calling directly into CPython's `libpython`:"
   ]
  },
  {
   "cell_type": "code",
   "execution_count": null,
   "metadata": {
    "collapsed": false
   },
   "outputs": [],
   "source": [
    "using PyCall"
   ]
  },
  {
   "cell_type": "code",
   "execution_count": null,
   "metadata": {
    "collapsed": false
   },
   "outputs": [],
   "source": [
    "@pyimport math as pymath"
   ]
  },
  {
   "cell_type": "code",
   "execution_count": null,
   "metadata": {
    "collapsed": false
   },
   "outputs": [],
   "source": [
    "pymath.cos(3)"
   ]
  },
  {
   "cell_type": "markdown",
   "metadata": {},
   "source": [
    "## Low-level dissection of a Python call"
   ]
  },
  {
   "cell_type": "markdown",
   "metadata": {},
   "source": [
    "Let's break this down.  When you run `pymath.sin(3)`, Julia:\n",
    "\n",
    "* First converts `3` into the corresponding Python object via `PyObject(3)`.\n",
    "* Then calls `pymath.sin` via the `libpython` routine `PyObject_Call`.\n",
    "* Finally, detects the type of the return value and converts it back to a Julia object.\n",
    "\n",
    "In terms of lower-level steps, it is doing:"
   ]
  },
  {
   "cell_type": "code",
   "execution_count": null,
   "metadata": {
    "collapsed": false
   },
   "outputs": [],
   "source": [
    "three = PyObject(3)   # calls PyInt_FromSsize_t in CPython library"
   ]
  },
  {
   "cell_type": "code",
   "execution_count": null,
   "metadata": {
    "collapsed": true
   },
   "outputs": [],
   "source": [
    "@pyimport math  # calls PyImport_AddModule in CPython"
   ]
  },
  {
   "cell_type": "markdown",
   "metadata": {},
   "source": [
    "One slight annoyance is that Julia doesn't (yet) let you override `.`, so `foo.bar` in Python generally becomes `foo[:bar]` in Julia (or `foo[\"bar\"]` if you want to leave the result as an unconverted Python object).  This will change in a future Julia release."
   ]
  },
  {
   "cell_type": "code",
   "execution_count": null,
   "metadata": {
    "collapsed": false
   },
   "outputs": [],
   "source": [
    "sinfunc = math.sin   # calls PyObject_GetAttrString"
   ]
  },
  {
   "cell_type": "code",
   "execution_count": null,
   "metadata": {
    "collapsed": false
   },
   "outputs": [],
   "source": [
    "returnval = pycall(sinfunc, PyObject, three) # calls PyObject_Call"
   ]
  },
  {
   "cell_type": "code",
   "execution_count": null,
   "metadata": {
    "collapsed": false
   },
   "outputs": [],
   "source": [
    "convert(Float64, returnval)   # if we know the type we want, we can specify it\n",
    "                              # calls PyFloat_AsDouble in CPython"
   ]
  },
  {
   "cell_type": "code",
   "execution_count": null,
   "metadata": {
    "collapsed": false
   },
   "outputs": [],
   "source": [
    "convert(PyAny, returnval)     # if we don't know the type we want, PyAny will detect it"
   ]
  },
  {
   "cell_type": "markdown",
   "metadata": {},
   "source": [
    "## Copy-free sharing of data"
   ]
  },
  {
   "cell_type": "markdown",
   "metadata": {},
   "source": [
    "PyCall allows large arrays and dictionaries to be passed **without making a copy**."
   ]
  },
  {
   "cell_type": "markdown",
   "metadata": {},
   "source": [
    "### Passing arrays"
   ]
  },
  {
   "cell_type": "markdown",
   "metadata": {},
   "source": [
    "For example, **Julia arrays are wrapped by NumPy arrays** with **shared data**."
   ]
  },
  {
   "cell_type": "code",
   "execution_count": null,
   "metadata": {
    "collapsed": false
   },
   "outputs": [],
   "source": [
    "A = rand(3,5)"
   ]
  },
  {
   "cell_type": "code",
   "execution_count": null,
   "metadata": {
    "collapsed": false
   },
   "outputs": [],
   "source": [
    "Apy = PyObject(A)"
   ]
  },
  {
   "cell_type": "code",
   "execution_count": null,
   "metadata": {
    "collapsed": false
   },
   "outputs": [],
   "source": [
    "A[1,1] = 17\n",
    "Apy"
   ]
  },
  {
   "cell_type": "code",
   "execution_count": null,
   "metadata": {
    "collapsed": false
   },
   "outputs": [],
   "source": [
    "@pyimport numpy as np\n",
    "x = [-100, 39, 59, 55, 20]\n",
    "np.irr(x)"
   ]
  },
  {
   "cell_type": "markdown",
   "metadata": {},
   "source": [
    "By default, PyCall makes a copy of arrays when converting from Python back to Julia:"
   ]
  },
  {
   "cell_type": "code",
   "execution_count": null,
   "metadata": {
    "collapsed": false
   },
   "outputs": [],
   "source": [
    "np.cumsum(x)"
   ]
  },
  {
   "cell_type": "markdown",
   "metadata": {},
   "source": [
    "But we can specify a copy-free return if desired by calling the lower-level `pycall` function and specifying the desired return type as `PyArray`:"
   ]
  },
  {
   "cell_type": "code",
   "execution_count": null,
   "metadata": {
    "collapsed": false
   },
   "outputs": [],
   "source": [
    "xsum = pycall(np.cumsum, PyArray, x)"
   ]
  },
  {
   "cell_type": "markdown",
   "metadata": {},
   "source": [
    "The resulting *NumPy* array can be passed to other Julia routines without making a copy:"
   ]
  },
  {
   "cell_type": "code",
   "execution_count": null,
   "metadata": {
    "collapsed": false
   },
   "outputs": [],
   "source": [
    "mean(xsum)"
   ]
  },
  {
   "cell_type": "markdown",
   "metadata": {},
   "source": [
    "There is also a `PyVector` type that you can use to wrap **Python lists** without making a copy:"
   ]
  },
  {
   "cell_type": "markdown",
   "metadata": {},
   "source": [
    "## Starting from Julia v0.4"
   ]
  },
  {
   "cell_type": "code",
   "execution_count": null,
   "metadata": {
    "collapsed": false
   },
   "outputs": [],
   "source": [
    "@pyimport sys"
   ]
  },
  {
   "cell_type": "code",
   "execution_count": null,
   "metadata": {
    "collapsed": false
   },
   "outputs": [],
   "source": [
    "sys.path"
   ]
  },
  {
   "cell_type": "markdown",
   "metadata": {},
   "source": [
    "### Passing dictionaries"
   ]
  },
  {
   "cell_type": "markdown",
   "metadata": {},
   "source": [
    "There is also a `PyDict` type that you can use to **share a dictionary** between Julia and Python."
   ]
  },
  {
   "cell_type": "code",
   "execution_count": null,
   "metadata": {
    "collapsed": false
   },
   "outputs": [],
   "source": [
    "d = PyDict()"
   ]
  },
  {
   "cell_type": "code",
   "execution_count": null,
   "metadata": {
    "collapsed": false
   },
   "outputs": [],
   "source": [
    "d[\"hello\"] = 7\n",
    "d[23] = \"goodbye\"\n",
    "d"
   ]
  },
  {
   "cell_type": "markdown",
   "metadata": {},
   "source": [
    "For fun, we'll use `pyeval` to pass `d` as a local variable `dict` to an arbitrary string of Python code that we want to evaluate, in this case a list comprehension in Python:"
   ]
  },
  {
   "cell_type": "code",
   "execution_count": null,
   "metadata": {
    "collapsed": false
   },
   "outputs": [],
   "source": [
    "pyeval(\"[x for x in dict.keys()]\", dict=d)"
   ]
  },
  {
   "cell_type": "markdown",
   "metadata": {},
   "source": [
    "## Passing Julia functions to Python"
   ]
  },
  {
   "cell_type": "markdown",
   "metadata": {},
   "source": [
    "Arbitrary Julia functions can be passed to Python.   They get converted into callable Python objects of a custom class, whose `__call__` method executes the Julia code:"
   ]
  },
  {
   "cell_type": "code",
   "execution_count": null,
   "metadata": {
    "collapsed": false
   },
   "outputs": [],
   "source": [
    "foo(x) = x + 1\n",
    "pyfoo = PyObject(foo)"
   ]
  },
  {
   "cell_type": "code",
   "execution_count": null,
   "metadata": {
    "collapsed": false
   },
   "outputs": [],
   "source": [
    "pycall(pyfoo, PyAny, 17)"
   ]
  },
  {
   "cell_type": "markdown",
   "metadata": {},
   "source": [
    "This is extremely useful for calling functions for optimization, root-finding, etcetera, from SciPy.  For example, let's solve a transcendental equation to find a root of $f(x) = \\cos(x) - x$:"
   ]
  },
  {
   "cell_type": "code",
   "execution_count": null,
   "metadata": {
    "collapsed": false
   },
   "outputs": [],
   "source": [
    "@pyimport scipy.optimize as so\n",
    "function f(x)\n",
    "    println(\"   calling f($x)\")\n",
    "    cos(x) - x\n",
    "end\n",
    "so.newton(f, 3)"
   ]
  },
  {
   "cell_type": "markdown",
   "metadata": {},
   "source": [
    "There is a bit of magic going on in passing Julia functions to Python.  To define a new Python type from the CPython API, we create a C `PyTypeObject` struct, and we need to stick a C function pointer into its `tp_call` slot to give it a `__call__` method.  \n",
    "\n",
    "A *C function pointer is just the address of the compiled machine instructions,* and since Julia has these instructions from its JIT compiler it can give you the address of the instructions using an intrinsic called `cfunction`, e.g."
   ]
  },
  {
   "cell_type": "code",
   "execution_count": null,
   "metadata": {
    "collapsed": false
   },
   "outputs": [],
   "source": [
    "cfunction(f, Float64, (Float64,))"
   ]
  },
  {
   "cell_type": "markdown",
   "metadata": {},
   "source": [
    "This ability to get C function pointers from Julia functions is the key to calling **any C API expecting a callback routine**, not just Python.  See the blog post: [Passing Julia Callback Functions to C](http://julialang.org/blog/2013/05/callback/)."
   ]
  },
  {
   "cell_type": "markdown",
   "metadata": {},
   "source": [
    "## Calling Matplotlib"
   ]
  },
  {
   "cell_type": "markdown",
   "metadata": {},
   "source": [
    "To get Matplotlib working in IJulia, we had to do a bit more work, similar to what IPython had to do to get its `pylab` option working.   For GUI windows, we had to implement the GUI event loop for the Python GUI toolkit(s) (PyQt, Gtk, wx) in Julia.  For inline plots, we had to monkey-patch Matplotlib to intercept its drawing commands queue the figure for rendering as an image to be sent to the front-end.  All of this is done by the `PyPlot` Julia module:"
   ]
  },
  {
   "cell_type": "code",
   "execution_count": null,
   "metadata": {
    "collapsed": false
   },
   "outputs": [],
   "source": [
    "using PyPlot"
   ]
  },
  {
   "cell_type": "code",
   "execution_count": null,
   "metadata": {
    "collapsed": false
   },
   "outputs": [],
   "source": [
    "x = linspace(0,2π,1000)\n",
    "plot(x, sin(3x + cos(5x)), \"b--\")\n",
    "title(\"a funny plot\")"
   ]
  },
  {
   "cell_type": "code",
   "execution_count": null,
   "metadata": {
    "collapsed": false
   },
   "outputs": [],
   "source": [
    "y = linspace(0,2π,50)\n",
    "surf(y, y, sin(y) .* cos(y)')"
   ]
  },
  {
   "cell_type": "markdown",
   "metadata": {},
   "source": [
    "Really, the **whole Matplotlib API** is available for use.  It has everything you might want (in 2d, at least), if you dig long enough through the manuals:"
   ]
  },
  {
   "cell_type": "code",
   "execution_count": null,
   "metadata": {
    "collapsed": false
   },
   "outputs": [],
   "source": [
    "xkcd()\n",
    "\n",
    "fig = figure(figsize=(10,5))\n",
    "ax = axes()\n",
    "p = plot(x,sin(3x + cos(5x)))\n",
    "ax[:set_xlim]([0.0,6])\n",
    "annotate(\"A little\\nsketchy\",xy=[0.98,.001],arrowprops=Dict(\"arrowstyle\"=>\"->\"),xytext=[1.3,-0.3])\n",
    "\n",
    "xticks([])\n",
    "yticks([])\n",
    "xlabel(\"TIME\")\n",
    "ylabel(\"PRODUCTIVITY\")\n",
    "title(\"An xkcd-style plot in Julia\")\n",
    "\n",
    "ax[:spines][\"top\"][:set_color](\"none\") # Remove the top axis boundary\n",
    "ax[:spines][\"right\"][:set_color](\"none\") # Remove the right axis boundary\n"
   ]
  },
  {
   "cell_type": "markdown",
   "metadata": {},
   "source": [
    "## Calling scikit-image"
   ]
  },
  {
   "cell_type": "markdown",
   "metadata": {},
   "source": [
    "On Wednesday, Stéfan van der Walt showed some [interesting demos using scikit-image](http://nbviewer.ipython.org/github/scikit-image/skimage-tutorials/blob/212c50a47f949070decd2047d2d4ff1c2114a5b3/2014-euroscipy/index.ipynb).  It is straightforward to try a couple of his examples from Julia:"
   ]
  },
  {
   "cell_type": "code",
   "execution_count": null,
   "metadata": {
    "collapsed": false
   },
   "outputs": [],
   "source": [
    "@pyimport skimage.data as skdata\n",
    "image = skdata.camera()"
   ]
  },
  {
   "cell_type": "code",
   "execution_count": null,
   "metadata": {
    "collapsed": false
   },
   "outputs": [],
   "source": [
    "@pyimport skimage.exposure as exposure\n",
    "subplot(1,3,1)\n",
    "imshow(image, cmap=\"jet\")\n",
    "subplot(1,3,2)\n",
    "imshow(image, cmap=\"gray\")\n",
    "subplot(1,3,3)\n",
    "imshow(exposure.equalize_adapthist(image), cmap=\"gray\")"
   ]
  },
  {
   "cell_type": "code",
   "execution_count": null,
   "metadata": {
    "collapsed": false
   },
   "outputs": [],
   "source": [
    "@pyimport skimage.filter as filters\n",
    "threshold = filters.threshold_otsu(image)\n",
    "println(\"Otsu threshold = $threshold\")\n",
    "imshow(image .> threshold, cmap=\"gray\")"
   ]
  }
 ],
 "metadata": {
  "kernelspec": {
   "display_name": "Julia 0.4.0-rc2",
   "language": "julia",
   "name": "julia-0.4"
  },
  "language_info": {
   "file_extension": ".jl",
   "mimetype": "application/julia",
   "name": "julia",
   "version": "0.4.0"
  }
 },
 "nbformat": 4,
 "nbformat_minor": 0
}
